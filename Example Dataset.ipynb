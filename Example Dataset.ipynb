{
 "cells": [
  {
   "cell_type": "code",
   "execution_count": 1,
   "metadata": {},
   "outputs": [],
   "source": [
    "import numpy as np\n",
    "from sklearn.linear_model import Ridge, Lasso, LinearRegression\n",
    "from sklearn.model_selection import train_test_split\n",
    "from sklearn.metrics import mean_squared_error\n",
    "from matplotlib import gridspec\n",
    "from matplotlib.colors import Normalize\n",
    "import matplotlib.pyplot as plt\n",
    "import matplotlib.cm as cm\n",
    "import pandas as pd\n",
    "%matplotlib inline\n",
    "\n",
    "import matplotlib as mpl\n",
    "mpl.rc('image', cmap='viridis')"
   ]
  },
  {
   "cell_type": "code",
   "execution_count": 22,
   "metadata": {},
   "outputs": [
    {
     "name": "stdout",
     "output_type": "stream",
     "text": [
      "(21, 3) (21,)\n"
     ]
    },
    {
     "data": {
      "text/html": [
       "<div>\n",
       "<style scoped>\n",
       "    .dataframe tbody tr th:only-of-type {\n",
       "        vertical-align: middle;\n",
       "    }\n",
       "\n",
       "    .dataframe tbody tr th {\n",
       "        vertical-align: top;\n",
       "    }\n",
       "\n",
       "    .dataframe thead th {\n",
       "        text-align: right;\n",
       "    }\n",
       "</style>\n",
       "<table border=\"1\" class=\"dataframe\">\n",
       "  <thead>\n",
       "    <tr style=\"text-align: right;\">\n",
       "      <th></th>\n",
       "      <th>size qm</th>\n",
       "      <th>rooms</th>\n",
       "      <th>distance to center km</th>\n",
       "      <th>price</th>\n",
       "    </tr>\n",
       "  </thead>\n",
       "  <tbody>\n",
       "    <tr>\n",
       "      <th>0</th>\n",
       "      <td>12</td>\n",
       "      <td>1.0</td>\n",
       "      <td>20</td>\n",
       "      <td>30</td>\n",
       "    </tr>\n",
       "    <tr>\n",
       "      <th>1</th>\n",
       "      <td>15</td>\n",
       "      <td>1.0</td>\n",
       "      <td>3</td>\n",
       "      <td>200</td>\n",
       "    </tr>\n",
       "    <tr>\n",
       "      <th>2</th>\n",
       "      <td>20</td>\n",
       "      <td>1.0</td>\n",
       "      <td>6</td>\n",
       "      <td>310</td>\n",
       "    </tr>\n",
       "    <tr>\n",
       "      <th>3</th>\n",
       "      <td>21</td>\n",
       "      <td>1.0</td>\n",
       "      <td>4</td>\n",
       "      <td>350</td>\n",
       "    </tr>\n",
       "    <tr>\n",
       "      <th>4</th>\n",
       "      <td>18</td>\n",
       "      <td>1.0</td>\n",
       "      <td>2</td>\n",
       "      <td>400</td>\n",
       "    </tr>\n",
       "  </tbody>\n",
       "</table>\n",
       "</div>"
      ],
      "text/plain": [
       "   size qm  rooms  distance to center km  price\n",
       "0       12    1.0                     20     30\n",
       "1       15    1.0                      3    200\n",
       "2       20    1.0                      6    310\n",
       "3       21    1.0                      4    350\n",
       "4       18    1.0                      2    400"
      ]
     },
     "execution_count": 22,
     "metadata": {},
     "output_type": "execute_result"
    }
   ],
   "source": [
    "y = np.array([30, 200, 310, 350, 400, 400, 450, 500, 530, 430, 650, 600, 790, 730, 740, 800, 850, 1200, 1400, 2100, 1800])\n",
    "label_col = 'price'\n",
    "features = ['size qm', 'rooms', 'distance to center km']\n",
    "x1 = [12, 15, 20, 21, 18, 24, 24, 28, 35, 25, 40, 28, 45, 40, 42, 55, 60, 80, 85, 120, 90]\n",
    "x2 = [ 1, 1,  1,  1, 1, 1.5,1.5,  2,  2,1.5,  2,  2,  2,  2,  2,  3,  3,  3,  3,   4,  4]\n",
    "x3 = [20, 3,  6,  4,  2, 12, 10,  8, 15, 16, 13, 14,  8, 12, 11,  9,  8,  4,  3,   6,  5]\n",
    "featureVals = [x1,x2,x3]\n",
    "X = np.array(featureVals).T\n",
    "print(X.shape, y.shape)\n",
    "\n",
    "dataDic = {}\n",
    "for i in range(len(features)):\n",
    "    dataDic[features[i]] = np.array(featureVals[i])\n",
    "dataDic[label_col] = y\n",
    "\n",
    "data = pd.DataFrame(dataDic)\n",
    "data.head()"
   ]
  },
  {
   "cell_type": "code",
   "execution_count": 23,
   "metadata": {},
   "outputs": [
    {
     "data": {
      "image/png": "[encoded data removed]",
      "text/plain": [
       "<Figure size 432x288 with 1 Axes>"
      ]
     },
     "metadata": {
      "needs_background": "light"
     },
     "output_type": "display_data"
    },
    {
     "data": {
      "image/png": "[encoded data removed]",
      "text/plain": [
       "<Figure size 432x288 with 1 Axes>"
      ]
     },
     "metadata": {
      "needs_background": "light"
     },
     "output_type": "display_data"
    },
    {
     "data": {
      "image/png": "[encoded data removed]",
      "text/plain": [
       "<Figure size 432x288 with 1 Axes>"
      ]
     },
     "metadata": {
      "needs_background": "light"
     },
     "output_type": "display_data"
    }
   ],
   "source": [
    "for f in features:\n",
    "    ax = data.plot.scatter(x=f, y='price')\n",
    "    ax.set_xlim(0, max(data[f])*1.1)\n",
    "    plt.savefig(str(f)+'_price.png', dpi=300)\n"
   ]
  },
  {
   "cell_type": "code",
   "execution_count": 31,
   "metadata": {},
   "outputs": [
    {
     "name": "stdout",
     "output_type": "stream",
     "text": [
      "(21, 3) (21,)\n"
     ]
    }
   ],
   "source": [
    "X = data[features].to_numpy()\n",
    "y = data[label_col].to_numpy()\n",
    "print(X.shape, y.shape)"
   ]
  },
  {
   "cell_type": "markdown",
   "metadata": {},
   "source": [
    "# Find good weights using OLS regression"
   ]
  },
  {
   "cell_type": "code",
   "execution_count": 33,
   "metadata": {},
   "outputs": [
    {
     "data": {
      "image/png": "[encoded data removed]",
      "text/plain": [
       "<Figure size 432x288 with 1 Axes>"
      ]
     },
     "metadata": {
      "needs_background": "light"
     },
     "output_type": "display_data"
    },
    {
     "name": "stdout",
     "output_type": "stream",
     "text": [
      "[15.28163676 61.98215105 -4.71368787] -19.32290958439603\n"
     ]
    }
   ],
   "source": [
    "clf = LinearRegression()\n",
    "clf.fit(X,y)\n",
    "pred = clf.predict(X)\n",
    "plt.scatter(y,pred)\n",
    "plt.show()\n",
    "print(clf.coef_, clf.intercept_)"
   ]
  },
  {
   "cell_type": "markdown",
   "metadata": {},
   "source": [
    "# Defining a Single Neuron"
   ]
  },
  {
   "cell_type": "code",
   "execution_count": 42,
   "metadata": {},
   "outputs": [],
   "source": [
    "class a:\n",
    "    def __init__(self, theta = 0.0):\n",
    "        self.theta = theta\n",
    "    def __call__(self, x):\n",
    "        if x <= self.theta:\n",
    "            return 0.0\n",
    "        else:\n",
    "            return x\n",
    "        \n",
    "class Neuron:\n",
    "    def __init__(self, activation, weights, bias):\n",
    "        self.activation = activation\n",
    "        self.setWeights(weights, bias)\n",
    "        \n",
    "    def setWeights(self, weights, bias = None):\n",
    "        self.weights = weights\n",
    "        self.bias = bias\n",
    "        \n",
    "    def getWeights(self):\n",
    "        return self.weights, self.bias\n",
    "    \n",
    "    def __call__(self, x):\n",
    "        val = np.dot(self.weights,x) + self.bias\n",
    "        return self.activation(val)"
   ]
  },
  {
   "cell_type": "markdown",
   "metadata": {},
   "source": [
    "# Testing that Single Neuron"
   ]
  },
  {
   "cell_type": "code",
   "execution_count": 55,
   "metadata": {},
   "outputs": [
    {
     "data": {
      "image/png": "[encoded data removed]",
      "text/plain": [
       "<Figure size 381.6x360 with 1 Axes>"
      ]
     },
     "metadata": {
      "needs_background": "light"
     },
     "output_type": "display_data"
    }
   ],
   "source": [
    "neuron = Neuron(a(), [15., 61., -5.], -19)\n",
    "pred = []\n",
    "for x in X:\n",
    "    pred.append(neuron(x))\n",
    "pred = np.array(pred)\n",
    "plt.figure(figsize=(5.3,5)) \n",
    "plt.scatter(y,pred)\n",
    "plt.xlabel('price')\n",
    "plt.ylabel('predicted price')\n",
    "plt.xlim((0,2200))\n",
    "plt.ylim((0,2200))\n",
    "plt.plot([0,2200],[0,2200], \"--\", alpha=0.5)\n",
    "plt.savefig('neuronPrediction.png', dpi=300)\n",
    "plt.show()"
   ]
  },
  {
   "cell_type": "code",
   "execution_count": null,
   "metadata": {},
   "outputs": [],
   "source": []
  },
  {
   "cell_type": "code",
   "execution_count": null,
   "metadata": {},
   "outputs": [],
   "source": []
  }
 ],
 "metadata": {
  "kernelspec": {
   "display_name": "Python 3",
   "language": "python",
   "name": "python3"
  },
  "language_info": {
   "codemirror_mode": {
    "name": "ipython",
    "version": 3
   },
   "file_extension": ".py",
   "mimetype": "text/x-python",
   "name": "python",
   "nbconvert_exporter": "python",
   "pygments_lexer": "ipython3",
   "version": "3.6.3"
  }
 },
 "nbformat": 4,
 "nbformat_minor": 2
}
